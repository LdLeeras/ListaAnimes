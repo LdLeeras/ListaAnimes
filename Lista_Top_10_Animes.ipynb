{
  "nbformat": 4,
  "nbformat_minor": 0,
  "metadata": {
    "colab": {
      "provenance": []
    },
    "kernelspec": {
      "name": "python3",
      "display_name": "Python 3"
    },
    "language_info": {
      "name": "python"
    }
  },
  "cells": [
    {
      "cell_type": "code",
      "source": [
        "%pip -q install google-genai"
      ],
      "metadata": {
        "id": "UCCbECexLk_h"
      },
      "execution_count": 1,
      "outputs": []
    },
    {
      "cell_type": "code",
      "source": [
        "import os\n",
        "from google.colab import userdata\n",
        "\n",
        "os.environ[\"GOOGLE_API_KEY\"] = userdata.get('GOOGLE_API_KEY')"
      ],
      "metadata": {
        "id": "NfCqHo1tLk8P"
      },
      "execution_count": 51,
      "outputs": []
    },
    {
      "cell_type": "code",
      "source": [
        "from google import genai\n",
        "\n",
        "client = genai.Client()\n",
        "\n",
        "MODEL_ID = \"gemini-2.0-flash\""
      ],
      "metadata": {
        "id": "43kYPJ0yInZ0"
      },
      "execution_count": 50,
      "outputs": []
    },
    {
      "cell_type": "code",
      "source": [
        "!pip install -q google-adk"
      ],
      "metadata": {
        "id": "a1eRPalxEnj7"
      },
      "execution_count": 52,
      "outputs": []
    },
    {
      "cell_type": "code",
      "execution_count": 49,
      "metadata": {
        "id": "aePV2bdfDeoW"
      },
      "outputs": [],
      "source": [
        "from google.adk.agents import Agent\n",
        "from google.adk.runners import Runner\n",
        "from google.adk.sessions import InMemorySessionService\n",
        "from google.adk.tools import google_search\n",
        "from google.genai import types\n",
        "from datetime import date\n",
        "import textwrap\n",
        "from IPython.display import display, Markdown\n",
        "import requests\n",
        "import warnings\n",
        "\n",
        "warnings.filterwarnings(\"ignore\")"
      ]
    },
    {
      "cell_type": "code",
      "source": [
        "def call_agent(agent: Agent, message_text: str) -> str:\n",
        "\n",
        "    session_service = InMemorySessionService()\n",
        "\n",
        "    session = session_service.create_session(app_name=agent.name, user_id=\"user1\", session_id=\"session1\")\n",
        "\n",
        "    runner = Runner(agent=agent, app_name=agent.name, session_service=session_service)\n",
        "\n",
        "    content = types.Content(role=\"user\", parts=[types.Part(text=message_text)])\n",
        "\n",
        "    final_response = \"\"\n",
        "\n",
        "    for event in runner.run(user_id=\"user1\", session_id=\"session1\", new_message=content):\n",
        "        if event.is_final_response():\n",
        "          for part in event.content.parts:\n",
        "            if part.text is not None:\n",
        "              final_response += part.text\n",
        "              final_response += \"\\n\"\n",
        "    return final_response"
      ],
      "metadata": {
        "id": "_xP4lWhsS5ko"
      },
      "execution_count": 48,
      "outputs": []
    },
    {
      "cell_type": "code",
      "source": [
        "def to_markdown(text):\n",
        "  text = text.replace('•', '  *')\n",
        "  return Markdown(textwrap.indent(text, '> ', predicate=lambda _: True))"
      ],
      "metadata": {
        "id": "8dosiodaxfFR"
      },
      "execution_count": 47,
      "outputs": []
    },
    {
      "cell_type": "code",
      "source": [
        "def agente_buscador(tema_anime, data_atual):\n",
        "\n",
        "    buscador = Agent(\n",
        "        name=\"agente_buscador\",\n",
        "        model=\"gemini-2.0-flash\",\n",
        "        instruction=\"\"\"\n",
        "        Você é um agente de pesquisa focado em vasculhar a internet utilizando a ferramenta (google_search) para encontrar os 10 melhores animes sobre o tema apontado pelo usuario, os pontos que voce ira considerar são:\n",
        "        -ranques em sites renomados do assunto\n",
        "        -numeros de vizualizaçoes\n",
        "        -opinioes em redes sociais\n",
        "        -inovação\n",
        "        É importante ressaltar que as opinioes nas redes sociais precisam ser atuais, ou tambem bastante engajadoras se possivel.\n",
        "        \"\"\",\n",
        "        description=\"Agente que busca informações no Google\",\n",
        "        tools=[google_search]\n",
        "    )\n",
        "\n",
        "    entrada_buscador = f\"tema: {tema_anime}\\nData de hoje: {data_atual}\"\n",
        "\n",
        "    animes_encontrados = call_agent(buscador, entrada_buscador)\n",
        "    return animes_encontrados"
      ],
      "metadata": {
        "id": "o8bqIfi_DyH8"
      },
      "execution_count": 44,
      "outputs": []
    },
    {
      "cell_type": "code",
      "source": [
        "def agente_planejador(tema_anime, animes_encontrados):\n",
        "    planejador = Agent(\n",
        "        name=\"agente_planejador\",\n",
        "        model=\"gemini-2.0-flash\",\n",
        "        instruction=\"\"\" Voce é um agente focado em listar os animes pesquisados pelo outro agente, voce deve focar em ser sucinto mas mantes todas as informaçoes importantes, seja tambem natural em seus resultados,\n",
        "         alem de apontar suas datas de lançamento, você pode ranquea-los tambem com base em notas dadas na internet utilize a ferramenta (google_search) para isso\"\"\",\n",
        "        description=\"Agente planejador de lista animes\",\n",
        "        tools=[google_search]\n",
        "    )\n",
        "\n",
        "    entrada_planejador = f\"tema:{tema_anime}\\nAnimes buscados: {animes_encontrados}\"\n",
        "\n",
        "    lista_animes_planejada = call_agent(planejador, entrada_planejador)\n",
        "    return lista_animes_planejada"
      ],
      "metadata": {
        "id": "y3VO1uo5_ghO"
      },
      "execution_count": 43,
      "outputs": []
    },
    {
      "cell_type": "code",
      "source": [
        "def agente_redator(tema_anime, lista_animes_planejada):\n",
        "    redator = Agent(\n",
        "        name=\"agente_redator\",\n",
        "        model=\"gemini-2.0-flash\",\n",
        "        instruction=\"\"\"\n",
        "            Você é um Redator Criativo especializado em criar posts virais para redes sociais.\n",
        "            Voce ira redigir um post de top 10, ou seja você utilizara a lista fornecida pelo outro agente para preparar um post para o tiktok, com legenda e conteudo do post descrito. Utilize uma linguajem focada no assunto,\n",
        "            se quiser referencie animes conhecidos em seus textos.\n",
        "            \"\"\",\n",
        "        description=\"Agente redator de posts engajadores para o TikTok\"\n",
        "    )\n",
        "    entrada_redator = f\"tema: {tema_anime}\\nPlano de post: {lista_animes_planejada}\"\n",
        "\n",
        "    rascunho_post = call_agent(redator, entrada_redator)\n",
        "    return rascunho_post"
      ],
      "metadata": {
        "id": "2rTf3MbB9j_b"
      },
      "execution_count": 42,
      "outputs": []
    },
    {
      "cell_type": "code",
      "source": [
        "def agente_revisor(tema_anime, rascunho_post):\n",
        "    revisor = Agent(\n",
        "        name=\"agente_revisor\",\n",
        "        model=\"gemini-2.0-flash\",\n",
        "        instruction=\"\"\"\n",
        "            Você é um Editor e Revisor de Conteúdo meticuloso, especializado em posts para redes sociais, com foco no TikTok.\n",
        "            Os posts que você vai revisar são focados na faixa etaria de 10 a 30 anos.\n",
        "            A pagina utiliza um linguagem mais natural, mas noa são aceitos erros de gramatica\n",
        "            Você revisará também os fatos descritos nos posts, se eles realmente são veridicos, inclusive os referenciando os proprios animes\n",
        "            Se não houver problemas com o post, apenas diga \"O seu post ficou massa em\",\n",
        "            caso haja problemas os aponte e corrija-os\n",
        "            \"\"\",\n",
        "        description=\"Agente revisor de post para redes sociais.\"\n",
        "    )\n",
        "    entrada_revisor = f\"tema: {tema_anime}\\nRascunho: {rascunho_post}\"\n",
        "    # Executa o agente\n",
        "    post_revisado = call_agent(revisor, entrada_revisor)\n",
        "    return post_revisado"
      ],
      "metadata": {
        "id": "7TjgtEX2CDsU"
      },
      "execution_count": 41,
      "outputs": []
    },
    {
      "cell_type": "code",
      "source": [
        "data_atual = date.today().strftime(\"%d/%m/%Y\")\n",
        "print(\"Olá sou o criador de posts sobre animes mais conhecido no mundo ninja\")\n",
        "\n",
        "# --- Obter o tema do Usuário ---\n",
        "tema_anime = input(\"Por favor digite seu tema que tem interesse: \")\n",
        "\n",
        "if not tema_anime:\n",
        "    print(\"Você esqueceu de digitar o seu tema!\")\n",
        "else:\n",
        "    print(f\"Ótimo, vamos encontrar os melhores animes para você 🫵, e ainda bolar um post para bombar no seu TikTok 💥\")\n",
        "\n",
        "    animes_encontrados = agente_buscador(tema_anime, data_atual)\n",
        "    print(\"\\n--- 📝 Resultado do Agente 1 (Buscador) ---\\n\")\n",
        "    display(to_markdown(animes_encontrados))\n",
        "    print(\"--------------------------------------------------------------\")\n",
        "\n",
        "    lista_animes_planejada = agente_planejador(tema_anime, animes_encontrados)\n",
        "    print(\"\\n--- 📝 Resultado do Agente 2 (Planejador) ---\\n\")\n",
        "    display(to_markdown(lista_animes_planejada))\n",
        "    print(\"--------------------------------------------------------------\")\n",
        "\n",
        "    rascunho_post = agente_redator(tema_anime, lista_animes_planejada)\n",
        "    print(\"\\n--- 📝 Resultado do Agente 3 (Redator) ---\\n\")\n",
        "    display(to_markdown(rascunho_post))\n",
        "    print(\"--------------------------------------------------------------\")\n",
        "\n",
        "    post_final = agente_revisor(tema_anime, rascunho_post)\n",
        "    print(\"\\n--- 📝 Resultado do Agente 4 (Revisor) ---\\n\")\n",
        "    display(to_markdown(post_final))\n",
        "    print(\"--------------------------------------------------------------\")"
      ],
      "metadata": {
        "colab": {
          "base_uri": "https://localhost:8080/",
          "height": 1000
        },
        "id": "6xzI6LKzxxnN",
        "outputId": "f385bd9c-1d18-46f2-b59b-e6c00d377732"
      },
      "execution_count": 58,
      "outputs": [
        {
          "output_type": "stream",
          "name": "stdout",
          "text": [
            "Olá sou o criador de posts sobre animes mais conhecido no mundo ninja\n",
            "Por favor digite seu tema que tem interesse: porradaria\n",
            "Ótimo, vamos encontrar os melhores animes para você 🫵, e ainda bolar um post para bombar no seu TikTok 💥\n",
            "\n",
            "--- 📝 Resultado do Agente 1 (Buscador) ---\n",
            "\n"
          ]
        },
        {
          "output_type": "display_data",
          "data": {
            "text/plain": [
              "<IPython.core.display.Markdown object>"
            ],
            "text/markdown": "> Okay, aqui estão minhas buscas para encontrar os 10 melhores animes de \"porradaria\", considerando rankings, visualizações, opiniões recentes/engajadoras em redes sociais e inovação:\n> \n> \n> Com base nas minhas buscas, aqui estão 10 animes de \"porradaria\" que se destacam em 2025:\n> \n> 1.  **Baki** : Conhecido por suas cenas de luta brutais e detalhadas artes marciais. A história segue Baki Hanma em sua busca para superar seu pai, que é considerado o ser humano mais forte do mundo.\n> \n> 2.  **Kenichi: O Discípulo Mais Forte da História**: Acompanha Kenichi Shirahama, um estudante que decide aprender artes marciais para se defender de valentões.\n> \n> 3.  **One-Punch Man**: Apresenta Saitama, um herói que derrota qualquer inimigo com um único soco, subvertendo as expectativas com lutas insanas. A animação dinâmica e os confrontos são visualmente impressionantes. A terceira temporada é muito aguardada.\n> \n> 4.  **My Hero Academia**: As batalhas impressionam pela criatividade no uso de habilidades e coreografias dinâmicas. Acompanha Izuku Midoriya, um jovem sem poderes que herda o lendário One For All. A série está chegando à sua temporada final em 2025.\n> \n> 5.  **Demon Slayer: Kimetsu no Yaiba**: Visualmente impressionante, com animação de alta qualidade e lutas de espadas espetaculares. Tanjiro Kamado enfrenta demônios poderosos em busca de vingança e para salvar sua irmã.\n> \n> 6.  **Dragon Ball Z**: Um clássico que popularizou as lutas prolongadas e cheias de energia. As transformações de Goku e Vegeta resultam em batalhas intensas. A franquia continua sendo uma referência no gênero.\n> \n> 7.  **Jujutsu Kaisen**: Apresenta um mundo onde todos têm energia amaldiçoada, e feiticeiros Jujutsu lutam contra maldições. As lutas são intensas e o enredo é envolvente.\n> \n> 8.  **Record of Ragnarok**: Um torneio onde deuses de diversas mitologias enfrentam os guerreiros mais poderosos da história humana. Cada batalha é um show de força e estratégia.\n> \n> 9.  **Megalo Box**: Uma abordagem futurista do boxe, onde os lutadores usam exoesqueletos para amplificar suas habilidades. Junk Dog compete no maior torneio sem usar tecnologia.\n> \n> 10. **Solo Leveling**: Um anime muito popular, com a segunda temporada sendo muito aguardada. A história segue Sung Jinwoo, um caçador de monstros que se torna incrivelmente poderoso.\n> \n> Esses animes combinam ação intensa, personagens cativantes e histórias envolventes, tornando-os imperdíveis para fãs de \"porradaria\".\n"
          },
          "metadata": {}
        },
        {
          "output_type": "stream",
          "name": "stdout",
          "text": [
            "--------------------------------------------------------------\n",
            "\n",
            "--- 📝 Resultado do Agente 2 (Planejador) ---\n",
            "\n"
          ]
        },
        {
          "output_type": "display_data",
          "data": {
            "text/plain": [
              "<IPython.core.display.Markdown object>"
            ],
            "text/markdown": "> Okay, aqui está uma lista concisa dos 10 melhores animes de \"porradaria\" para você, com foco nas datas de lançamento e suas classificações relevantes:\n> \n> 1.  **Baki**: Lançado em 2018, conhecido por suas lutas brutais.\n> \n> 2.  **Kenichi: O Discípulo Mais Forte da História**: Estreou em 2006, ideal para quem gosta de artes marciais.\n> \n> 3.  **One-Punch Man**: Lançado em 2015, famoso por subverter o gênero com lutas insanas. Nota: geralmente acima de 8/10 em sites de avaliação.\n> \n> 4.  **My Hero Academia**: Desde 2016, com batalhas criativas e dinâmicas. Nota: Similarmente bem avaliado, com notas acima de 8/10.\n> \n> 5.  **Demon Slayer: Kimetsu no Yaiba**: Lançado em 2019, visualmente impressionante. Nota: frequentemente acima de 8.5/10 devido à sua animação.\n> \n> 6.  **Dragon Ball Z**: Um clássico dos anos 80 e 90, referência no gênero.\n> \n> 7.  **Jujutsu Kaisen**: Desde 2020, com lutas intensas e enredo envolvente. Nota: Costuma ter notas elevadas, acima de 8/10.\n> \n> 8.  **Record of Ragnarok**: Lançado em 2021, com batalhas mitológicas épicas.\n> \n> 9.  **Megalo Box**: Estreou em 2018, uma abordagem futurista do boxe.\n> \n> 10. **Solo Leveling**: Lançado em 2024, rapidamente se tornou popular.\n> \n"
          },
          "metadata": {}
        },
        {
          "output_type": "stream",
          "name": "stdout",
          "text": [
            "--------------------------------------------------------------\n",
            "\n",
            "--- 📝 Resultado do Agente 3 (Redator) ---\n",
            "\n"
          ]
        },
        {
          "output_type": "display_data",
          "data": {
            "text/plain": [
              "<IPython.core.display.Markdown object>"
            ],
            "text/markdown": "> 🔥 **TOP 10 ANIMAÇÕES DE PORRADARIA QUE VÃO TE FAZER QUEBRAR O SOFÁ!** 🔥\n> \n> Fala, seus viciados em adrenalina! Se você é do tipo que curte uma boa luta, prepare-se, porque o vídeo de hoje vai te deixar no hype! 😎\n> \n> **🎬 Conteúdo do vídeo:**\n> \n> *   Cenas INSANAS de cada anime, mostrando a pancadaria rolando solta.\n> *   Edição dinâmica com transições rápidas e efeitos impactantes.\n> *   Música ÉPICA de fundo que combine com a vibe de cada luta.\n> *   Apresentação rápida e ENGRAÇADA de cada anime, com legendas chamativas.\n> *   Enquete no final: Qual desses animes tem a luta mais FODA?\n> \n> **📝 Legenda:**\n> \n> \"Se liga no TOP 10 de animes de porradaria que vão te deixar sem fôlego! 💥 De clássicos como Dragon Ball Z até os lançamentos mais INSANOS como Solo Leveling, tem luta pra todo gosto! Já prepara o energético e vem comigo! 🔥\n> \n> 1️⃣ **Baki** (2018): Brutalidade PURA!\n> 2️⃣ **Kenichi** (2006): Pra quem AMA artes marciais! 🥋\n> 3️⃣ **One-Punch Man** (2015): Um soco pra resolver TUDO! 👊\n> 4️⃣ **My Hero Academia** (2016): Lutando pra virar o número 1! 🥇\n> 5️⃣ **Demon Slayer** (2019): Visual que CORTA a respiração! 👹\n> 6️⃣ **Dragon Ball Z** (Anos 80/90): O clássico que a gente AMA! 🐉\n> 7️⃣ **Jujutsu Kaisen** (2020): Prepare-se para a MALDIÇÃO! 😈\n> 8️⃣ **Record of Ragnarok** (2021): Deuses e humanos NA PORRADA! ⚔️\n> 9️⃣ **Megalo Box** (2018): Boxe futurista que DÁ CHOQUE! 🤖\n> 🔟 **Solo Leveling** (2024): O novato que já CHEGOU COM TUDO! 👑\n> \n> Qual desses é o seu PREFERIDO? Deixa nos comentários! 👇 #anime #porradaria #luta #recomendações #otaku #animes\"\n"
          },
          "metadata": {}
        },
        {
          "output_type": "stream",
          "name": "stdout",
          "text": [
            "--------------------------------------------------------------\n",
            "\n",
            "--- 📝 Resultado do Agente 4 (Revisor) ---\n",
            "\n"
          ]
        },
        {
          "output_type": "display_data",
          "data": {
            "text/plain": [
              "<IPython.core.display.Markdown object>"
            ],
            "text/markdown": "> O seu post ficou massa em, so faria alguns ajustes:\n> \n> 1.  **Baki (2018):** Em vez de \"Brutalidade PURA!\", que tal algo como \"Prepare-se para quebrar uns ossos!\"? É mais chamativo e mantém a vibe.\n> 2.  **Kenichi (2006):** Trocar \"Pra quem AMA artes marciais!\" por \"Aqui a lapada come solta!\".\n> 3.  **My Hero Academia (2016):** Substituir \"Lutando pra virar o número 1!\" por \"Lutando para se tornar o Herói N° 1!\".\n> 4.  **Dragon Ball Z (Anos 80/90):** Trocar \"O clássico que a gente AMA!\" por \"O clássico que ensinou a carregar energia!\".\n> 5.  **Solo Leveling (2024):** Trocar \"O novato que já CHEGOU COM TUDO!\" por \"O novato que chegou dando porrada e virou rei!\".\n> 6.  **Hashtags:** Adicionar hashtags como #animesbrasil e #mundootaku para aumentar o alcance.\n"
          },
          "metadata": {}
        },
        {
          "output_type": "stream",
          "name": "stdout",
          "text": [
            "--------------------------------------------------------------\n"
          ]
        }
      ]
    }
  ]
}